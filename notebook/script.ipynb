{
  "cells": [
    {
      "cell_type": "code",
      "execution_count": null,
      "metadata": {
        "id": "98FZ6Son2p96"
      },
      "outputs": [],
      "source": [
        "from pyspark.sql import SparkSession"
      ]
    },
    {
      "cell_type": "code",
      "execution_count": null,
      "metadata": {
        "id": "TfOBwEQ33ph-"
      },
      "outputs": [],
      "source": [
        "spark = SparkSession.builder \\\n",
        "    .appName(\"ETL\") \\\n",
        "    .config(\"spark.sql.sources.header\", \"true\") \\\n",
        "    .config(\"spark.sql.sources.inferSchema\", \"true\") \\\n",
        "    .getOrCreate()"
      ]
    },
    {
      "cell_type": "code",
      "execution_count": null,
      "metadata": {
        "id": "Iy1kRA4a3hfI"
      },
      "outputs": [],
      "source": [
        "song_df = spark.read \\\n",
        "    .option(\"header\", \"true\") \\\n",
        "    .option(\"inferSchema\", \"true\") \\\n",
        "    .option(\"multiLine\", \"true\") \\\n",
        "    .option(\"quote\", \"\\\"\") \\\n",
        "    .option(\"escape\", \"\\\"\") \\\n",
        "    .option(\"mode\", \"PERMISSIVE\") \\\n",
        "    .csv(\"/content/songs.csv\")\n",
        "user_df = spark.read.option(\"header\", \"true\").option(\"inferSchema\", \"true\").csv(\"/content/users.csv\")"
      ]
    },
    {
      "cell_type": "code",
      "execution_count": null,
      "metadata": {
        "id": "KAtY6upY3yTC"
      },
      "outputs": [],
      "source": [
        "streams1 = spark.read.option(\"header\", \"true\").option(\"inferSchema\", \"true\").csv(\"/content/streams1.csv\")\n",
        "streams2 = spark.read.option(\"header\", \"true\").option(\"inferSchema\", \"true\").csv(\"/content/streams2.csv\")\n",
        "streams3 = spark.read.option(\"header\", \"true\").option(\"inferSchema\", \"true\").csv(\"/content/streams3.csv\")"
      ]
    },
    {
      "cell_type": "code",
      "execution_count": null,
      "metadata": {
        "id": "m3kwvvWv4AHs"
      },
      "outputs": [],
      "source": [
        "merged_streams = streams1.union(streams2).union(streams3)"
      ]
    },
    {
      "cell_type": "code",
      "execution_count": null,
      "metadata": {
        "colab": {
          "base_uri": "https://localhost:8080/"
        },
        "id": "R-6mGm5P4Czw",
        "outputId": "f06d41be-64fe-49c0-e4d2-86c3b474f6e0"
      },
      "outputs": [
        {
          "name": "stdout",
          "output_type": "stream",
          "text": [
            "+-------+--------------------+-------------------+\n",
            "|user_id|            track_id|        listen_time|\n",
            "+-------+--------------------+-------------------+\n",
            "|  26213|4dBa8T7oDV9WvGr7k...|2024-06-25 17:43:13|\n",
            "|   6937|4osgfFTICMkcGbbig...|2024-06-25 07:26:00|\n",
            "|  21407|2LoQWx41KeqOrSFra...|2024-06-25 13:25:26|\n",
            "|  47146|7cfG5lFeJWEgpSnub...|2024-06-25 18:17:50|\n",
            "|  38594|6tilCYbheGMHo3Hw4...|2024-06-25 17:33:21|\n",
            "|  14209|2QuOheWJqShIBIYC1...|2024-06-25 02:52:20|\n",
            "|  26986|6qBSGvyUzqNQv8Xtn...|2024-06-25 22:32:51|\n",
            "|   8173|1wXSL0SAzd7mX0LM8...|2024-06-25 11:59:10|\n",
            "|  12950|0L7Nv6ToXLRAWId4e...|2024-06-25 17:54:30|\n",
            "|   2898|7tnE9vy6FCRtbZql5...|2024-06-25 18:30:31|\n",
            "|   5873|5QAzf7c3dNfcuXkvx...|2024-06-25 14:48:02|\n",
            "|  30933|4cJhBmeJ7KiBeuy7o...|2024-06-25 14:07:00|\n",
            "|   8892|0bcy0hFL8G0IfV0mp...|2024-06-25 14:58:10|\n",
            "|  28613|6tDtuaCX0sIea6o8Q...|2024-06-25 20:50:59|\n",
            "|  13663|5G67YWTwKKRBkk1EH...|2024-06-25 04:22:32|\n",
            "|  21063|1OAkkP5JGtwDZbsE6...|2024-06-25 14:59:09|\n",
            "|  48747|2goJK85OkKFSLkv7k...|2024-06-25 07:13:38|\n",
            "|  23953|6q0kToRO5nX5L84IH...|2024-06-25 20:08:56|\n",
            "|  31700|2unMCmT3nl0VBRFI3...|2024-06-25 12:43:23|\n",
            "|  49035|4du0vJojcm0DzTZby...|2024-06-25 19:38:06|\n",
            "+-------+--------------------+-------------------+\n",
            "only showing top 20 rows\n",
            "\n"
          ]
        }
      ],
      "source": [
        "merged_streams.show()"
      ]
    },
    {
      "cell_type": "code",
      "execution_count": null,
      "metadata": {
        "colab": {
          "base_uri": "https://localhost:8080/",
          "height": 676
        },
        "id": "2BSY7t_84rT3",
        "outputId": "c1fc74eb-b013-42c3-b4e5-07e6a3d471e4"
      },
      "outputs": [
        {
          "name": "stdout",
          "output_type": "stream",
          "text": [
            "root\n",
            " |-- user_id: integer (nullable = true)\n",
            " |-- track_id: string (nullable = true)\n",
            " |-- listen_time: timestamp (nullable = true)\n",
            "\n"
          ]
        },
        {
          "data": {
            "text/plain": [
              "None"
            ]
          },
          "metadata": {},
          "output_type": "display_data"
        },
        {
          "name": "stdout",
          "output_type": "stream",
          "text": [
            "root\n",
            " |-- id: integer (nullable = true)\n",
            " |-- track_id: string (nullable = true)\n",
            " |-- artists: string (nullable = true)\n",
            " |-- album_name: string (nullable = true)\n",
            " |-- track_name: string (nullable = true)\n",
            " |-- popularity: integer (nullable = true)\n",
            " |-- duration_ms: integer (nullable = true)\n",
            " |-- explicit: boolean (nullable = true)\n",
            " |-- danceability: double (nullable = true)\n",
            " |-- energy: double (nullable = true)\n",
            " |-- key: integer (nullable = true)\n",
            " |-- loudness: double (nullable = true)\n",
            " |-- mode: integer (nullable = true)\n",
            " |-- speechiness: double (nullable = true)\n",
            " |-- acousticness: double (nullable = true)\n",
            " |-- instrumentalness: double (nullable = true)\n",
            " |-- liveness: double (nullable = true)\n",
            " |-- valence: double (nullable = true)\n",
            " |-- tempo: double (nullable = true)\n",
            " |-- time_signature: integer (nullable = true)\n",
            " |-- track_genre: string (nullable = true)\n",
            "\n"
          ]
        },
        {
          "data": {
            "text/plain": [
              "None"
            ]
          },
          "metadata": {},
          "output_type": "display_data"
        },
        {
          "name": "stdout",
          "output_type": "stream",
          "text": [
            "root\n",
            " |-- user_id: integer (nullable = true)\n",
            " |-- user_name: string (nullable = true)\n",
            " |-- user_age: integer (nullable = true)\n",
            " |-- user_country: string (nullable = true)\n",
            " |-- created_at: date (nullable = true)\n",
            "\n"
          ]
        },
        {
          "data": {
            "text/plain": [
              "None"
            ]
          },
          "metadata": {},
          "output_type": "display_data"
        }
      ],
      "source": [
        "display(merged_streams.printSchema())\n",
        "display(song_df.printSchema())\n",
        "display(user_df.printSchema())"
      ]
    },
    {
      "cell_type": "code",
      "execution_count": null,
      "metadata": {
        "id": "Ux9DoOZq6FFc"
      },
      "outputs": [],
      "source": [
        "# Columns to keep for each file\n",
        "song_columns = [\"track_id\", \"track_name\", \"duration_ms\", \"track_genre\"]\n",
        "user_columns = [\"user_id\"]\n",
        "streams_columns = [\"user_id\", \"track_id\", \"listen_time\"]"
      ]
    },
    {
      "cell_type": "code",
      "execution_count": null,
      "metadata": {
        "id": "zshQPsm4BPDy"
      },
      "outputs": [],
      "source": [
        "# Drop columns\n",
        "song_df = song_df.select(song_columns)\n",
        "user_df = user_df.select(user_columns)\n",
        "merged_streams = merged_streams.select(streams_columns)"
      ]
    },
    {
      "cell_type": "code",
      "execution_count": null,
      "metadata": {
        "colab": {
          "base_uri": "https://localhost:8080/",
          "height": 312
        },
        "id": "bhTovYRoBUaz",
        "outputId": "cef8dee7-b448-4834-8efe-3bbcfa3648ce"
      },
      "outputs": [
        {
          "name": "stdout",
          "output_type": "stream",
          "text": [
            "root\n",
            " |-- user_id: integer (nullable = true)\n",
            " |-- track_id: string (nullable = true)\n",
            " |-- listen_time: timestamp (nullable = true)\n",
            "\n"
          ]
        },
        {
          "data": {
            "text/plain": [
              "None"
            ]
          },
          "metadata": {},
          "output_type": "display_data"
        },
        {
          "name": "stdout",
          "output_type": "stream",
          "text": [
            "root\n",
            " |-- track_id: string (nullable = true)\n",
            " |-- track_name: string (nullable = true)\n",
            " |-- duration_ms: integer (nullable = true)\n",
            " |-- track_genre: string (nullable = true)\n",
            "\n"
          ]
        },
        {
          "data": {
            "text/plain": [
              "None"
            ]
          },
          "metadata": {},
          "output_type": "display_data"
        },
        {
          "name": "stdout",
          "output_type": "stream",
          "text": [
            "root\n",
            " |-- user_id: integer (nullable = true)\n",
            "\n"
          ]
        },
        {
          "data": {
            "text/plain": [
              "None"
            ]
          },
          "metadata": {},
          "output_type": "display_data"
        }
      ],
      "source": [
        "display(merged_streams.printSchema())\n",
        "display(song_df.printSchema())\n",
        "display(user_df.printSchema())"
      ]
    },
    {
      "cell_type": "code",
      "execution_count": null,
      "metadata": {
        "colab": {
          "base_uri": "https://localhost:8080/",
          "height": 642
        },
        "id": "JRWeAd3dBU2x",
        "outputId": "44474883-a8ab-4f5a-fdc9-473f1f452d17"
      },
      "outputs": [
        {
          "name": "stdout",
          "output_type": "stream",
          "text": [
            "root\n",
            " |-- user_id: integer (nullable = true)\n",
            " |-- track_id: string (nullable = true)\n",
            " |-- listen_time: timestamp (nullable = true)\n",
            " |-- track_name: string (nullable = true)\n",
            " |-- duration_ms: integer (nullable = true)\n",
            " |-- track_genre: string (nullable = true)\n",
            "\n"
          ]
        },
        {
          "data": {
            "text/plain": [
              "None"
            ]
          },
          "metadata": {},
          "output_type": "display_data"
        },
        {
          "name": "stdout",
          "output_type": "stream",
          "text": [
            "+-------+--------------------+-------------------+--------------------+-----------+-----------------+\n",
            "|user_id|            track_id|        listen_time|          track_name|duration_ms|      track_genre|\n",
            "+-------+--------------------+-------------------+--------------------+-----------+-----------------+\n",
            "|  26213|4dBa8T7oDV9WvGr7k...|2024-06-25 17:43:13|Don't Let the Lig...|     229517|             rock|\n",
            "|   6937|4osgfFTICMkcGbbig...|2024-06-25 07:26:00|            Novacane|     302346|             soul|\n",
            "|  21407|2LoQWx41KeqOrSFra...|2024-06-25 13:25:26|           Harpooned|      47160|        grindcore|\n",
            "|  47146|7cfG5lFeJWEgpSnub...|2024-06-25 18:17:50|The Forgotten Kin...|     334599|      heavy-metal|\n",
            "|  38594|6tilCYbheGMHo3Hw4...|2024-06-25 17:33:21| Short Dressed Woman|     252133|            piano|\n",
            "|  14209|2QuOheWJqShIBIYC1...|2024-06-25 02:52:20|The Right Time - ...|     233560|        power-pop|\n",
            "|  26986|6qBSGvyUzqNQv8Xtn...|2024-06-25 22:32:51|Everybody Have Fu...|     287360|        synth-pop|\n",
            "|   8173|1wXSL0SAzd7mX0LM8...|2024-06-25 11:59:10| Guerreiros Cósmicos|     161632|           brazil|\n",
            "|  12950|0L7Nv6ToXLRAWId4e...|2024-06-25 17:54:30|I Heard the Bells...|     182253|        indie-pop|\n",
            "|   2898|7tnE9vy6FCRtbZql5...|2024-06-25 18:30:31|       indieedgycool|     146769|      alternative|\n",
            "|   5873|5QAzf7c3dNfcuXkvx...|2024-06-25 14:48:02|Hardcore Vibes 20...|     198093|            happy|\n",
            "|  30933|4cJhBmeJ7KiBeuy7o...|2024-06-25 14:07:00|         Black Magic|     243360|      death-metal|\n",
            "|   8892|0bcy0hFL8G0IfV0mp...|2024-06-25 14:58:10|          尚好的青春|     265008|         mandopop|\n",
            "|  28613|6tDtuaCX0sIea6o8Q...|2024-06-25 20:50:59|        Shot At Love|     202677|progressive-house|\n",
            "|  13663|5G67YWTwKKRBkk1EH...|2024-06-25 04:22:32|            Arterial|     254962|              idm|\n",
            "|  21063|1OAkkP5JGtwDZbsE6...|2024-06-25 14:59:09|              weird!|     183501|          british|\n",
            "|  48747|2goJK85OkKFSLkv7k...|2024-06-25 07:13:38|            Godspeed|     186933|        metalcore|\n",
            "|  23953|6q0kToRO5nX5L84IH...|2024-06-25 20:08:56|              Raftel|     151963|           french|\n",
            "|  31700|2unMCmT3nl0VBRFI3...|2024-06-25 12:43:23|            Éclosion|     295200|          ambient|\n",
            "|  49035|4du0vJojcm0DzTZby...|2024-06-25 19:38:06|           New Delhi|     146699|              sad|\n",
            "+-------+--------------------+-------------------+--------------------+-----------+-----------------+\n",
            "only showing top 20 rows\n",
            "\n"
          ]
        },
        {
          "data": {
            "text/plain": [
              "None"
            ]
          },
          "metadata": {},
          "output_type": "display_data"
        }
      ],
      "source": [
        "# Merge files for computation\n",
        "merged_df = merged_streams.join(song_df, \"track_id\", \"left\").join(user_df, \"user_id\", \"left\")\n",
        "display(merged_df.printSchema())\n",
        "display(merged_df.show())"
      ]
    },
    {
      "cell_type": "code",
      "execution_count": null,
      "metadata": {
        "id": "7IoERq1XDVj8"
      },
      "outputs": [],
      "source": [
        "# Perform transformations and cleaning before compuations\n",
        "\n",
        "# drop null values\n",
        "merged_df = merged_df.na.drop()\n",
        "\n",
        "# drop duplicate\n",
        "merged_df = merged_df.dropDuplicates()\n",
        "\n",
        "# # strip \"\"\" from\n",
        "# merged_df = merged_df.withColumn(\"track_name\", F.regexp_replace(\"track_name\", r'(^\\\"|\\\"$)', \"\"))\n",
        "\n",
        "# # strip whitespace\n",
        "# merged_df = merged_df.withColumn(\"track_name\", F.trim(merged_df[\"track_name\"]))\n",
        "\n",
        "# # replace / with ,\n",
        "# merged_df = merged_df.withColumn(\"track_genre\", F.regexp_replace(\"track_genre\", \"/\", \",\"))\n",
        "\n",
        "# # set max space to 1\n",
        "# merged_df = merged_df.withColumn(\"track_genre\", F.regexp_replace(\"track_genre\", \"  \", \" \"))"
      ]
    },
    {
      "cell_type": "markdown",
      "metadata": {
        "id": "oZfKiqr7MZcg"
      },
      "source": [
        " Listen Count: Total number of times tracks in a genre have been played in\n",
        "a day.\n",
        "▪ Unique Listeners: Distinct users who streamed a track in a given genre\n",
        "per day.\n",
        "▪ Total Listening Time: The cumulative listening time for tracks in a genre\n",
        "per day.\n",
        "▪ Average Listening Time per User: The mean listening duration per user\n",
        "per day.\n",
        "▪ Top 3 Songs per Genre per Day: The most played songs in each genre\n",
        "daily.\n",
        "▪ Top 5 Genres per Day: The five most popular genres based on listen\n",
        "count per day."
      ]
    },
    {
      "cell_type": "code",
      "execution_count": null,
      "metadata": {
        "id": "ekReAVvRCTt-"
      },
      "outputs": [],
      "source": [
        "# Start computations\n",
        "import pyspark.sql.functions as F\n",
        "from pyspark.sql.window import Window\n",
        "# Add listen_date from listen_time\n",
        "merged_df = merged_df.withColumn(\"listen_date\", merged_df[\"listen_time\"].cast(\"date\"))\n",
        "\n",
        "# Calculate duration in minutes\n",
        "merged_df = merged_df.withColumn(\"duration_minutes\", merged_df[\"duration_ms\"] / 60000)\n",
        "\n",
        "# Compute listen_count and total_duration\n",
        "daily_genre_metrics = merged_df.groupBy(\"listen_date\", \"track_genre\").agg(\n",
        "    # Listen Count: Total number of times tracks in a genre have been played in a day.\n",
        "    F.count(\"*\").alias(\"listen_count\"),\n",
        "\n",
        "    # Unique Listeners: Distinct users who streamed a track in a given genre per day\n",
        "    F.countDistinct(\"user_id\").alias(\"unique_listeners\"),\n",
        "\n",
        "    # Total Listening Time: The cumulative listening time for tracks in a genre per day\n",
        "    F.round(F.sum(\"duration_minutes\"), 2).alias(\"total_duration_minutes\")\n",
        ")\n",
        "\n",
        "# Calculate Average Listening Time per User\n",
        "daily_genre_metrics = daily_genre_metrics.withColumn(\n",
        "    \"avg_listening_time_per_user\",\n",
        "    F.round(F.col(\"total_duration_minutes\") / F.col(\"unique_listeners\"), 2)\n",
        ")"
      ]
    },
    {
      "cell_type": "code",
      "execution_count": null,
      "metadata": {
        "colab": {
          "base_uri": "https://localhost:8080/"
        },
        "collapsed": true,
        "id": "i0WgHsonOkyS",
        "outputId": "e6b52ab0-104b-45f4-95b5-610b70a16f42"
      },
      "outputs": [
        {
          "name": "stdout",
          "output_type": "stream",
          "text": [
            "+-----------+-----------+--------------------+------------------+----+\n",
            "|listen_date|track_genre|          track_name|track_listen_count|rank|\n",
            "+-----------+-----------+--------------------+------------------+----+\n",
            "| 2024-06-25|   acoustic|You and Me on the...|                 5|   1|\n",
            "| 2024-06-25|   acoustic|   Winter Wonderland|                 4|   2|\n",
            "| 2024-06-25|   acoustic|             DBS Out|                 3|   3|\n",
            "| 2024-06-25|   afrobeat|              Makoti|                 4|   1|\n",
            "| 2024-06-25|   afrobeat|      Expensive Shit|                 4|   2|\n",
            "| 2024-06-25|   afrobeat|             Raminho|                 3|   3|\n",
            "| 2024-06-25|   alt-rock|                Sway|                 4|   1|\n",
            "| 2024-06-25|   alt-rock|           Mr. Jones|                 4|   2|\n",
            "| 2024-06-25|   alt-rock|Symphony Of Destr...|                 3|   3|\n",
            "| 2024-06-25|alternative|             abcdefu|                 6|   1|\n",
            "| 2024-06-25|alternative|         Living Hell|                 5|   2|\n",
            "| 2024-06-25|alternative|       ur just horny|                 3|   3|\n",
            "| 2024-06-25|    ambient|             Reverie|                 3|   1|\n",
            "| 2024-06-25|    ambient|What Gently Flutters|                 3|   2|\n",
            "| 2024-06-25|    ambient|        Wandering II|                 3|   3|\n",
            "| 2024-06-25|      anime|          Mind brand|                 4|   1|\n",
            "| 2024-06-25|      anime|          自閉円頓裹|                 4|   2|\n",
            "| 2024-06-25|      anime|           Sincerely|                 3|   3|\n",
            "| 2024-06-25|black-metal|   The Death of Love|                 4|   1|\n",
            "| 2024-06-25|black-metal|Ataegina - re-mas...|                 3|   2|\n",
            "+-----------+-----------+--------------------+------------------+----+\n",
            "only showing top 20 rows\n",
            "\n"
          ]
        }
      ],
      "source": [
        "# Calculate Top 3 Songs per Genre per Day\n",
        "song_rank_window = Window.partitionBy(\"listen_date\", \"track_genre\").orderBy(F.desc(\"track_listen_count\"))\n",
        "\n",
        "song_plays = merged_df.groupBy(\"listen_date\", \"track_genre\", \"track_name\").agg(\n",
        "    F.count(\"*\").alias(\"track_listen_count\")\n",
        ")\n",
        "song_plays_rank = song_plays.withColumn(\"rank\", F.row_number().over(song_rank_window))\n",
        "top_3_songs_per_genre = song_plays_rank.filter(F.col(\"rank\") <= 3)\n",
        "# top_3_songs_per_genre = top_3_songs_per_genre.drop(\"rank\")\n",
        "top_3_songs_per_genre.show()"
      ]
    },
    {
      "cell_type": "code",
      "execution_count": null,
      "metadata": {
        "colab": {
          "base_uri": "https://localhost:8080/"
        },
        "id": "ASsYQ6It4pF0",
        "outputId": "6c49af7e-a907-42bd-d5fa-2c1c49c14575"
      },
      "outputs": [
        {
          "name": "stdout",
          "output_type": "stream",
          "text": [
            "+-----------+-----------+------------+----------------+----------------------+---------------------------+----+\n",
            "|listen_date|track_genre|listen_count|unique_listeners|total_duration_minutes|avg_listening_time_per_user|rank|\n",
            "+-----------+-----------+------------+----------------+----------------------+---------------------------+----+\n",
            "| 2024-06-25|   children|         418|             417|                963.64|                       2.31|   1|\n",
            "| 2024-06-25|      anime|         415|             413|               1453.86|                       3.52|   2|\n",
            "| 2024-06-25|     disney|         413|             409|               1104.66|                        2.7|   3|\n",
            "| 2024-06-25|   cantopop|         407|             406|               1526.08|                       3.76|   4|\n",
            "| 2024-06-25|      happy|         395|             391|               1603.89|                        4.1|   5|\n",
            "+-----------+-----------+------------+----------------+----------------------+---------------------------+----+\n",
            "\n"
          ]
        }
      ],
      "source": [
        "# Calculate Top 5 Genres per Day\n",
        "genre_rank_window = Window.partitionBy(\"listen_date\").orderBy(F.desc(\"listen_count\"))\n",
        "top_5_genres_per_day = daily_genre_metrics.withColumn(\"rank\", F.row_number().over(genre_rank_window))\n",
        "top_5_genres_per_day = top_5_genres_per_day.filter(F.col(\"rank\") <= 5)\n",
        "# top_5_genres_per_day = top_5_genres_per_day.drop(\"rank\")\n",
        "top_5_genres_per_day.show()"
      ]
    },
    {
      "cell_type": "code",
      "execution_count": null,
      "metadata": {
        "colab": {
          "base_uri": "https://localhost:8080/"
        },
        "collapsed": true,
        "id": "kzulFIJmDEGO",
        "outputId": "de812a17-2940-4241-bcbc-fa2baa8cbd61"
      },
      "outputs": [
        {
          "name": "stdout",
          "output_type": "stream",
          "text": [
            "+-----------+-----------+------------+----------------+----------------------+---------------------------+\n",
            "|listen_date|track_genre|listen_count|unique_listeners|total_duration_minutes|avg_listening_time_per_user|\n",
            "+-----------+-----------+------------+----------------+----------------------+---------------------------+\n",
            "| 2024-06-25|      metal|          94|              94|                407.87|                       4.34|\n",
            "| 2024-06-25|death-metal|         367|             364|               1520.13|                       4.18|\n",
            "| 2024-06-25|  sertanejo|         329|             328|               1107.23|                       3.38|\n",
            "| 2024-06-25|      tango|         390|             389|               1205.77|                        3.1|\n",
            "| 2024-06-25|  hardstyle|         315|             313|               1154.38|                       3.69|\n",
            "| 2024-06-25|     guitar|         332|             329|               1284.39|                        3.9|\n",
            "| 2024-06-25|      indie|          46|              46|                155.61|                       3.38|\n",
            "| 2024-06-25|    electro|         244|             244|                794.53|                       3.26|\n",
            "| 2024-06-25|      samba|         255|             252|                963.56|                       3.82|\n",
            "| 2024-06-25|    j-dance|         317|             314|               1035.82|                        3.3|\n",
            "| 2024-06-25|world-music|         345|             345|               1642.89|                       4.76|\n",
            "| 2024-06-25|    turkish|         368|             365|               1352.99|                       3.71|\n",
            "| 2024-06-25|     french|         317|             316|               1058.92|                       3.35|\n",
            "| 2024-06-25|        ska|         258|             256|                927.23|                       3.62|\n",
            "| 2024-06-25|   afrobeat|         368|             366|               1589.99|                       4.34|\n",
            "| 2024-06-25|      opera|         322|             321|               1211.04|                       3.77|\n",
            "| 2024-06-25|    dubstep|         101|             100|                376.57|                       3.77|\n",
            "| 2024-06-25|   acoustic|         360|             354|               1301.93|                       3.68|\n",
            "| 2024-06-25|     german|         259|             257|                934.39|                       3.64|\n",
            "| 2024-06-25|   cantopop|         407|             406|               1526.08|                       3.76|\n",
            "+-----------+-----------+------------+----------------+----------------------+---------------------------+\n",
            "only showing top 20 rows\n",
            "\n"
          ]
        }
      ],
      "source": [
        "# Round values to two decimal place\n",
        "daily_genre_metrics.show()\n",
        "# print(f\"Shape: {daily_genre_metrics.count()} rows, {len(daily_genre_metrics.columns)} columns\")"
      ]
    },
    {
      "cell_type": "code",
      "execution_count": null,
      "metadata": {
        "id": "tBe0JhroOccD"
      },
      "outputs": [],
      "source": [
        "!pip install boto3"
      ]
    },
    {
      "cell_type": "code",
      "execution_count": null,
      "metadata": {
        "id": "LOFM0jr3EtTE"
      },
      "outputs": [],
      "source": [
        "# Save kpis to dynamoDB\n",
        "import boto3\n",
        "from botocore.config import Config\n",
        "from decimal import Decimal\n",
        "import os\n",
        "\n",
        "os.environ[\"AWS_ACCESS_KEY_ID\"] = \"\"\n",
        "os.environ[\"AWS_SECRET_ACCESS_KEY\"] = \"\"\n",
        "os.environ[\"AWS_DEFAULT_REGION\"] = \"\"\n",
        "\n",
        "dynamodb = boto3.resource('dynamodb', region_name='eu-west-1')\n",
        "table = dynamodb.Table('daily-genre-kpis')\n",
        "\n",
        "# partition key genre::date (String)\n",
        "# sort key metric-type (String)\n",
        "\n",
        "def prepare_data_for_dynamo(df):\n",
        "    data = []\n",
        "    for row in df.collect():\n",
        "        data.append({\n",
        "            'genre::date': f\"{row['track_genre']}::{row['listen_date']}\",  # ✅ Combined partition key\n",
        "            'metric-type': 'daily-genre-kpis',  # ✅ Add the sort key\n",
        "            'genre': row['track_genre'],\n",
        "            'listen_count': Decimal(str(row['listen_count'])),  # ✅ Convert float/int to Decimal\n",
        "            'unique_listeners': Decimal(str(row['unique_listeners'])),\n",
        "            'total_duration_minutes': Decimal(str(row['total_duration_minutes'])),\n",
        "            'avg_listening_time_per_user': Decimal(str(row['avg_listening_time_per_user']))\n",
        "        })\n",
        "    return data\n",
        "\n",
        "\n",
        "\n",
        "data = prepare_data_for_dynamo(daily_genre_metrics)\n",
        "\n",
        "for item in data:\n",
        "    table.put_item(Item=item)\n"
      ]
    },
    {
      "cell_type": "code",
      "execution_count": null,
      "metadata": {
        "colab": {
          "base_uri": "https://localhost:8080/"
        },
        "id": "2JoLb3Lg-NDA",
        "outputId": "dc80d42b-2321-4d28-cc49-794819d11661"
      },
      "outputs": [
        {
          "name": "stdout",
          "output_type": "stream",
          "text": [
            "+-----------+-----------+--------------------+------------------+----+\n",
            "|listen_date|track_genre|          track_name|track_listen_count|rank|\n",
            "+-----------+-----------+--------------------+------------------+----+\n",
            "| 2024-06-25|   acoustic|You and Me on the...|                 5|   1|\n",
            "| 2024-06-25|   acoustic|   Winter Wonderland|                 4|   2|\n",
            "+-----------+-----------+--------------------+------------------+----+\n",
            "only showing top 2 rows\n",
            "\n"
          ]
        }
      ],
      "source": [
        "top_3_songs_per_genre.show(2)"
      ]
    },
    {
      "cell_type": "code",
      "execution_count": null,
      "metadata": {
        "colab": {
          "base_uri": "https://localhost:8080/",
          "height": 607
        },
        "id": "7MJH27kFQzJi",
        "outputId": "ffc0a0b0-8d9c-4c86-dc2b-aba2d5b45852"
      },
      "outputs": [
        {
          "name": "stdout",
          "output_type": "stream",
          "text": [
            "root\n",
            " |-- listen_date: date (nullable = true)\n",
            " |-- track_genre: string (nullable = true)\n",
            " |-- top_3_songs: array (nullable = false)\n",
            " |    |-- element: string (containsNull = false)\n",
            "\n"
          ]
        },
        {
          "data": {
            "text/plain": [
              "None"
            ]
          },
          "metadata": {},
          "output_type": "display_data"
        },
        {
          "name": "stdout",
          "output_type": "stream",
          "text": [
            "+-----------+-------------+------------------------+\n",
            "|listen_date|  track_genre|             top_3_songs|\n",
            "+-----------+-------------+------------------------+\n",
            "| 2024-06-25|     acoustic|    [You and Me on th...|\n",
            "| 2024-06-25|     afrobeat|    [Makoti, Expensiv...|\n",
            "| 2024-06-25|     alt-rock|    [Sway, Mr. Jones,...|\n",
            "| 2024-06-25|  alternative|    [abcdefu, Living ...|\n",
            "| 2024-06-25|      ambient|    [Reverie, What Ge...|\n",
            "| 2024-06-25|        anime|[Mind brand, 自閉円頓...|\n",
            "| 2024-06-25|  black-metal|    [The Death of Lov...|\n",
            "| 2024-06-25|    bluegrass|    [Long Journey Hom...|\n",
            "| 2024-06-25|        blues|    [Run Rudolph Run,...|\n",
            "| 2024-06-25|       brazil|    [Até Quando Esper...|\n",
            "| 2024-06-25|    breakbeat|    [Electro Glide In...|\n",
            "| 2024-06-25|      british|    [Paper Thin, Gree...|\n",
            "| 2024-06-25|     cantopop|      [想你, 白玫瑰, 海]|\n",
            "| 2024-06-25|chicago-house|    [Wanna Give It Up...|\n",
            "| 2024-06-25|     children|    [The Chipmunk Son...|\n",
            "| 2024-06-25|        chill|    [Midnight River (...|\n",
            "| 2024-06-25|    classical|    [9 Variations on ...|\n",
            "| 2024-06-25|         club|    [Black Lambo, Ven...|\n",
            "| 2024-06-25|       comedy|    [Big Stress, 7+11...|\n",
            "| 2024-06-25|      country|    [Something in the...|\n",
            "+-----------+-------------+------------------------+\n",
            "only showing top 20 rows\n",
            "\n"
          ]
        },
        {
          "data": {
            "text/plain": [
              "None"
            ]
          },
          "metadata": {},
          "output_type": "display_data"
        }
      ],
      "source": [
        "grouped_df_top3 = top_3_songs_per_genre.groupBy(\"listen_date\", \"track_genre\").agg(\n",
        "    F.collect_list(\"track_name\").alias(\"top_3_songs\")\n",
        ")\n",
        "\n",
        "display(grouped_df_top3.printSchema())\n",
        "display(grouped_df_top3.show())"
      ]
    },
    {
      "cell_type": "code",
      "execution_count": null,
      "metadata": {
        "id": "44-6CrDz-kOx"
      },
      "outputs": [],
      "source": [
        "def prepare_data_for_dynamo_top_3(df):\n",
        "  data = []\n",
        "  for row in df.collect():\n",
        "    data.append({\n",
        "        'genre::date': f\"{row['track_genre']}::{row['listen_date']}\",  # ✅ Combined partition key\n",
        "        'metric-type': 'top-3-songs',  # ✅ Add the sort key\n",
        "        'genre': row['track_genre'],\n",
        "        'top_3_songs': row['top_3_songs']\n",
        "    })\n",
        "  return data\n",
        "\n",
        "data = prepare_data_for_dynamo_top_3(grouped_df_top3)\n",
        "\n",
        "# data[:2]\n",
        "for item in data:\n",
        "    table.put_item(Item=item)"
      ]
    },
    {
      "cell_type": "code",
      "execution_count": null,
      "metadata": {
        "colab": {
          "base_uri": "https://localhost:8080/",
          "height": 243
        },
        "id": "wV5PrINbKKiY",
        "outputId": "2956bc8f-08fc-4a67-813e-bdb25a41840a"
      },
      "outputs": [
        {
          "name": "stdout",
          "output_type": "stream",
          "text": [
            "root\n",
            " |-- listen_date: date (nullable = true)\n",
            " |-- top_5_genres: array (nullable = false)\n",
            " |    |-- element: string (containsNull = false)\n",
            "\n"
          ]
        },
        {
          "data": {
            "text/plain": [
              "None"
            ]
          },
          "metadata": {},
          "output_type": "display_data"
        },
        {
          "name": "stdout",
          "output_type": "stream",
          "text": [
            "+-----------+--------------------+\n",
            "|listen_date|        top_5_genres|\n",
            "+-----------+--------------------+\n",
            "| 2024-06-25|[children, anime,...|\n",
            "+-----------+--------------------+\n",
            "\n"
          ]
        },
        {
          "data": {
            "text/plain": [
              "None"
            ]
          },
          "metadata": {},
          "output_type": "display_data"
        }
      ],
      "source": [
        "# save top 5 songs\n",
        "grouped_df_top5 = top_5_genres_per_day.groupBy(\"listen_date\").agg(\n",
        "    F.collect_list(\"track_genre\").alias(\"top_5_genres\")\n",
        ")\n",
        "\n",
        "display(grouped_df_top5.printSchema())\n",
        "display(grouped_df_top5.show())"
      ]
    },
    {
      "cell_type": "code",
      "execution_count": null,
      "metadata": {
        "id": "PTzy3IDIRsD7"
      },
      "outputs": [],
      "source": [
        "def prepare_data_for_dynamo_top_5(df):\n",
        "  data = []\n",
        "  for row in df.collect():\n",
        "    data.append({\n",
        "        'genre::date': f\"top5::{row['listen_date']}\",  # ✅ Combined partition key\n",
        "        'metric-type': 'top-5-genres',\n",
        "        'top_5_genres': row['top_5_genres']\n",
        "    })\n",
        "  return data\n",
        "\n",
        "data = prepare_data_for_dynamo_top_5(grouped_df_top5)\n",
        "\n",
        "# data[:2]\n",
        "for item in data:\n",
        "    table.put_item(Item=item)"
      ]
    }
  ],
  "metadata": {
    "colab": {
      "provenance": []
    },
    "kernelspec": {
      "display_name": "Python 3",
      "name": "python3"
    },
    "language_info": {
      "name": "python"
    }
  },
  "nbformat": 4,
  "nbformat_minor": 0
}
